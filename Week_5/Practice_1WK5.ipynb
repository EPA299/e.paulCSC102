{
 "cells": [
  {
   "cell_type": "code",
   "execution_count": 1,
   "metadata": {},
   "outputs": [
    {
     "name": "stdout",
     "output_type": "stream",
     "text": [
      "I'm the first call to the user-defined function!\n",
      "Again, the second call to the same function\n"
     ]
    }
   ],
   "source": [
    "# Define a function named printme\n",
    "def printme(str):\n",
    "    # This function prints the given string\n",
    "    print(str)\n",
    "    return\n",
    "\n",
    "# Call the function with different arguments\n",
    "printme(\"I'm the first call to the user-defined function!\")\n",
    "printme(\"Again, the second call to the same function\")"
   ]
  }
 ],
 "metadata": {
  "kernelspec": {
   "display_name": "Python 3",
   "language": "python",
   "name": "python3"
  },
  "language_info": {
   "codemirror_mode": {
    "name": "ipython",
    "version": 3
   },
   "file_extension": ".py",
   "mimetype": "text/x-python",
   "name": "python",
   "nbconvert_exporter": "python",
   "pygments_lexer": "ipython3",
   "version": "3.11.9"
  }
 },
 "nbformat": 4,
 "nbformat_minor": 2
}
