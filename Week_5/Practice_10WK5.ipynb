{
 "cells": [
  {
   "cell_type": "code",
   "execution_count": 1,
   "metadata": {},
   "outputs": [
    {
     "name": "stdout",
     "output_type": "stream",
     "text": [
      "Lawal Edward Tolu Tina\n",
      "Mary\n"
     ]
    }
   ],
   "source": [
    "# Define a function to swap two values\n",
    "def swap(x, y):\n",
    "    global a  # Declare 'a' as a global variable\n",
    "    a = \"Lawal\"  # Assign a value to the global variable\n",
    "    x, y = y, x  # Swap the values of x and y\n",
    "    b = \"Chris\"  # Assign a value to the local variable b\n",
    "    b = \"Edward\"  # Reassign a new value to b\n",
    "    c = \"Lola\"  # Assign a value to the local variable c\n",
    "    print(a, b, x, y)  # Print the values of a, b, x, and y\n",
    "    a = \"Mary\"  # Modify the global variable a\n",
    "\n",
    "# Call the swap function with arguments \"Tina\" and \"Tolu\"\n",
    "swap(\"Tina\", \"Tolu\")\n",
    "\n",
    "# Print the global variable a after the function call\n",
    "print(a)"
   ]
  }
 ],
 "metadata": {
  "kernelspec": {
   "display_name": "Python 3",
   "language": "python",
   "name": "python3"
  },
  "language_info": {
   "codemirror_mode": {
    "name": "ipython",
    "version": 3
   },
   "file_extension": ".py",
   "mimetype": "text/x-python",
   "name": "python",
   "nbconvert_exporter": "python",
   "pygments_lexer": "ipython3",
   "version": "3.11.9"
  }
 },
 "nbformat": 4,
 "nbformat_minor": 2
}
