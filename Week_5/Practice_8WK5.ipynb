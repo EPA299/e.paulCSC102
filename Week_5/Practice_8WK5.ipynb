{
 "cells": [
  {
   "cell_type": "code",
   "execution_count": 1,
   "metadata": {},
   "outputs": [
    {
     "name": "stdout",
     "output_type": "stream",
     "text": [
      "Output is:\n",
      "10\n",
      "Output is:\n",
      "70\n",
      "60\n",
      "50\n"
     ]
    }
   ],
   "source": [
    "# Define a function with arbitrary arguments\n",
    "def printinfo(arg1, *vartuple):\n",
    "    # Print the required argument\n",
    "    print(\"Output is:\")\n",
    "    print(arg1)\n",
    "    # Iterate over additional arguments and print them\n",
    "    for var in vartuple:\n",
    "        print(var)\n",
    "    return\n",
    "\n",
    "# Call the function with a single argument\n",
    "printinfo(10)\n",
    "\n",
    "# Call the function with multiple arguments\n",
    "printinfo(70, 60, 50)"
   ]
  }
 ],
 "metadata": {
  "kernelspec": {
   "display_name": "Python 3",
   "language": "python",
   "name": "python3"
  },
  "language_info": {
   "codemirror_mode": {
    "name": "ipython",
    "version": 3
   },
   "file_extension": ".py",
   "mimetype": "text/x-python",
   "name": "python",
   "nbconvert_exporter": "python",
   "pygments_lexer": "ipython3",
   "version": "3.11.9"
  }
 },
 "nbformat": 4,
 "nbformat_minor": 2
}
