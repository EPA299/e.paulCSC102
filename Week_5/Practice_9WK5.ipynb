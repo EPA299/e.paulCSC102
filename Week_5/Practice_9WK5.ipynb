{
 "cells": [
  {
   "cell_type": "code",
   "execution_count": 1,
   "metadata": {},
   "outputs": [
    {
     "name": "stdout",
     "output_type": "stream",
     "text": [
      "Inside the function local total: 30\n",
      "Outside the function global total: 50\n"
     ]
    }
   ],
   "source": [
    "# Define a global variable\n",
    "total = 50  # This is a global variable\n",
    "\n",
    "# Define a function named sum\n",
    "def sum(arg1, arg2):\n",
    "    # Add both the parameters and assign to a local variable total\n",
    "    total = arg1 + arg2\n",
    "    print(\"Inside the function local total:\", total)  # Prints the local total\n",
    "    return total\n",
    "\n",
    "# Call the sum function with arguments 10 and 20\n",
    "sum(10, 20)\n",
    "\n",
    "# Print the global total variable after function execution\n",
    "print(\"Outside the function global total:\", total)"
   ]
  }
 ],
 "metadata": {
  "kernelspec": {
   "display_name": "Python 3",
   "language": "python",
   "name": "python3"
  },
  "language_info": {
   "codemirror_mode": {
    "name": "ipython",
    "version": 3
   },
   "file_extension": ".py",
   "mimetype": "text/x-python",
   "name": "python",
   "nbconvert_exporter": "python",
   "pygments_lexer": "ipython3",
   "version": "3.11.9"
  }
 },
 "nbformat": 4,
 "nbformat_minor": 2
}
