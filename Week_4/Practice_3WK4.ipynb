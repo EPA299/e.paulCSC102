{
 "cells": [
  {
   "cell_type": "code",
   "execution_count": 1,
   "metadata": {},
   "outputs": [
    {
     "name": "stdout",
     "output_type": "stream",
     "text": [
      "Welcome to the COUPE DE ESCRIVA 2023: FOOTBALL PICKS\n",
      "\n",
      "Madiba:  Chubby Obiora-Okafor\n",
      "Blue-Jays:  Christopher Uweh\n",
      "Cirok:  Alexander\n",
      "TSG Walkers:  Ikechukwu\n",
      "\n",
      "\n",
      "Madiba:  Chubby Obiora-Okafor\n",
      "Blue-Jays:  Oladimeji Abaniwondea/Jeffery Awagu\n",
      "Cirok:  Timileyin Pearse/Izuako Jeremy\n",
      "TSG Walkers:  Ayomide Ojituku\n"
     ]
    }
   ],
   "source": [
    "# COUPE DE ESCRIVA 2023: FOOTBALL PICKS\n",
    "\n",
    "print(\"Welcome to the COUPE DE ESCRIVA 2023: FOOTBALL PICKS\\n\")\n",
    "\n",
    "# Dictionaries for captains and goalkeepers\n",
    "captain = {\n",
    "    'Madiba: ': 'Chubby Obiora-Okafor',\n",
    "    'Blue-Jays: ': 'Christopher Uweh',\n",
    "    'Cirok: ': 'Alexander',\n",
    "    'TSG Walkers: ': 'Ikechukwu'\n",
    "}\n",
    "\n",
    "goalkeepers = {\n",
    "    'Madiba: ': 'Chubby Obiora-Okafor',\n",
    "    'Blue-Jays: ': 'Oladimeji Abaniwondea/Jeffery Awagu',\n",
    "    'Cirok: ': 'Timileyin Pearse/Izuako Jeremy',\n",
    "    'TSG Walkers: ': 'Ayomide Ojituku'\n",
    "}\n",
    "\n",
    "# Print captains\n",
    "for pick in captain:\n",
    "    print(pick, captain[pick])\n",
    "\n",
    "print(\"\\n\")  # Adds a blank line for readability\n",
    "\n",
    "# Print goalkeepers\n",
    "for pick in goalkeepers:\n",
    "    print(pick, goalkeepers[pick])"
   ]
  }
 ],
 "metadata": {
  "kernelspec": {
   "display_name": "Python 3",
   "language": "python",
   "name": "python3"
  },
  "language_info": {
   "codemirror_mode": {
    "name": "ipython",
    "version": 3
   },
   "file_extension": ".py",
   "mimetype": "text/x-python",
   "name": "python",
   "nbconvert_exporter": "python",
   "pygments_lexer": "ipython3",
   "version": "3.11.9"
  }
 },
 "nbformat": 4,
 "nbformat_minor": 2
}
