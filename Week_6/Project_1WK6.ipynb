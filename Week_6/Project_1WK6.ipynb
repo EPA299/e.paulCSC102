{
 "cells": [
  {
   "cell_type": "code",
   "execution_count": 4,
   "metadata": {},
   "outputs": [],
   "source": [
    "\n",
    "import tkinter as tk\n",
    "from tkinter import messagebox\n",
    "\n",
    "def calculate_fee():\n",
    "\n",
    "    location = location_var.get()\n",
    "    weight_kg = float(weight_entry.get())\n",
    "    \n",
    "    if location == \"Ibeju Lekki Community\":\n",
    "        if weight_kg >= 10:\n",
    "            fee = 5000\n",
    "        else:\n",
    "            fee = 3500\n",
    "\n",
    "    elif location == \"Epe Area\":\n",
    "        if weight_kg >= 10:\n",
    "            fee = 10000\n",
    "        else:\n",
    "            fee = 5000\n",
    "    else:\n",
    "             fee = 0  \n",
    "    \n",
    "    if fee > 0:\n",
    "        messagebox.showinfo(\"Delivery fee\", f\"The delivery fee is: N{fee}\")\n",
    "    else:\n",
    "        messagebox.showerror(\"Invalid Location Used\")\n",
    "\n",
    "root = tk.Tk()\n",
    "root.configure(width=400, height=200)\n",
    "root.title(\"Simi Services Delivery Fee\")\n",
    "\n",
    "label_location = tk.Label(root, text=\"Select Location/Area:\")\n",
    "label_location.pack()\n",
    "\n",
    "location_var = tk.StringVar()\n",
    "location_var.set(\"Ibeju Lekki Community\") \n",
    "dropdown = tk.OptionMenu(root, location_var, \"Ibeju Lekki Community\", \"Epe Area\")\n",
    "dropdown.pack()\n",
    "\n",
    "label_weight = tk.Label(root, text=\"Enter Package Weight (kg):\")\n",
    "label_weight.pack()\n",
    "\n",
    "weight_entry = tk.Entry(root)\n",
    "weight_entry.pack()\n",
    "\n",
    "button_calculate = tk.Button(root, text=\"Calculate Fee\")\n",
    "button_calculate[\"command\"] = calculate_fee\n",
    "button_calculate.pack()\n",
    "\n",
    "root.mainloop()"
   ]
  }
 ],
 "metadata": {
  "kernelspec": {
   "display_name": "Python 3",
   "language": "python",
   "name": "python3"
  },
  "language_info": {
   "codemirror_mode": {
    "name": "ipython",
    "version": 3
   },
   "file_extension": ".py",
   "mimetype": "text/x-python",
   "name": "python",
   "nbconvert_exporter": "python",
   "pygments_lexer": "ipython3",
   "version": "3.11.9"
  }
 },
 "nbformat": 4,
 "nbformat_minor": 2
}
